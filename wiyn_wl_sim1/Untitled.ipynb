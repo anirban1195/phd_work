{
 "cells": [
  {
   "cell_type": "code",
   "execution_count": 1,
   "id": "ff5e7272",
   "metadata": {},
   "outputs": [],
   "source": [
    "import astropy\n"
   ]
  },
  {
   "cell_type": "code",
   "execution_count": 2,
   "id": "1f15e618",
   "metadata": {},
   "outputs": [],
   "source": [
    "import os"
   ]
  },
  {
   "cell_type": "code",
   "execution_count": 3,
   "id": "e64acb24",
   "metadata": {},
   "outputs": [
    {
     "data": {
      "text/plain": [
       "['run_test.sub',\n",
       " 'correct_wcs.py',\n",
       " 'testing_phosim_wiyn_wcs.py',\n",
       " 'slurm-26910802.out',\n",
       " 'helper.py',\n",
       " 'slurm-28562402.out',\n",
       " 'shear_master_cat.py',\n",
       " 'run_sf.sub',\n",
       " 'source_list_perfectGauss.pk1',\n",
       " 'slurm-28665099.out',\n",
       " '__pycache__',\n",
       " 'default.swarp',\n",
       " 'coadd_band.sub',\n",
       " 'single_frame_detect1.py',\n",
       " 'slurm-26353065.out',\n",
       " 'slurm-26954235.out',\n",
       " 'slurm-27051547.out',\n",
       " 'slurm-28784118.out',\n",
       " 'slurm-28778854.out',\n",
       " 'make_excel.py',\n",
       " 'pfGauss_makeImage.py',\n",
       " 'integrated.py',\n",
       " 'slurm-26953179.out',\n",
       " 'magList_wiynSim.in',\n",
       " 'coadd_band.py',\n",
       " 'slurm-28672691.out',\n",
       " 'r_withMC.npy',\n",
       " 'slurm-28551091.out',\n",
       " 'integrate.sub',\n",
       " 'helper1.py',\n",
       " 'makeFinalCuts.py',\n",
       " 'slurm-28559898.out',\n",
       " 'slurm-26353100.out',\n",
       " 'swarp.xml',\n",
       " 'slurm-28832520.out',\n",
       " 'runPhosim.py',\n",
       " '.ipynb_checkpoints',\n",
       " 'seperate_star_gal.py',\n",
       " 'slurm-28670854.out',\n",
       " 'slurm-28668366.out',\n",
       " 'slurm-28705583.out',\n",
       " 'source_list.pk1',\n",
       " 'integrated_nfw.py',\n",
       " 'coadd_detect.py',\n",
       " 'Untitled.ipynb',\n",
       " 'slurm-27052597.out',\n",
       " 'getgamma.py',\n",
       " 'coaddSc_i.npy',\n",
       " 'slurm-26917513.out',\n",
       " 'makeEandBmodes.py',\n",
       " 'coaddSc_r.npy',\n",
       " 'swarp_temp.ascii',\n",
       " 'makevalidationplots.py',\n",
       " 'zphot.out',\n",
       " 'slurm-27052864.out',\n",
       " 'slurm-26917074.out',\n",
       " 'helper_phosim.py',\n",
       " 'MC_calib.py',\n",
       " 'slurm-28703576.out',\n",
       " 'slurm-26952635.out',\n",
       " 'slurm-27074248.out',\n",
       " 'slurm-26917455.out',\n",
       " 'testCatalog.txt',\n",
       " 'slurm-28826968.out',\n",
       " 'slurm-28777750.out',\n",
       " 'run_band.sub',\n",
       " 'slurm-28669779.out',\n",
       " 'make_lePhare_in.py',\n",
       " 'slurm-28781420.out',\n",
       " 'slurm-28778276.out',\n",
       " 'run_swarp.sub',\n",
       " 'coaddSc_ir.npy']"
      ]
     },
     "execution_count": 3,
     "metadata": {},
     "output_type": "execute_result"
    }
   ],
   "source": [
    "os.listdir()"
   ]
  },
  {
   "cell_type": "code",
   "execution_count": null,
   "id": "4eb4afb3",
   "metadata": {},
   "outputs": [],
   "source": []
  }
 ],
 "metadata": {
  "kernelspec": {
   "display_name": "Python 3.8 (Anaconda 2020.11)",
   "language": "python",
   "name": "anaconda-2020.11-py38"
  },
  "language_info": {
   "codemirror_mode": {
    "name": "ipython",
    "version": 3
   },
   "file_extension": ".py",
   "mimetype": "text/x-python",
   "name": "python",
   "nbconvert_exporter": "python",
   "pygments_lexer": "ipython3",
   "version": "3.8.5"
  }
 },
 "nbformat": 4,
 "nbformat_minor": 5
}
